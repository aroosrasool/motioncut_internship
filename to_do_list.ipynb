{
  "nbformat": 4,
  "nbformat_minor": 0,
  "metadata": {
    "colab": {
      "provenance": [],
      "authorship_tag": "ABX9TyPaWsKcPbCr34IGJmKi2evC",
      "include_colab_link": true
    },
    "kernelspec": {
      "name": "python3",
      "display_name": "Python 3"
    },
    "language_info": {
      "name": "python"
    }
  },
  "cells": [
    {
      "cell_type": "markdown",
      "metadata": {
        "id": "view-in-github",
        "colab_type": "text"
      },
      "source": [
        "<a href=\"https://colab.research.google.com/github/aroosrasool/motioncut_internship/blob/main/to_do_list.ipynb\" target=\"_parent\"><img src=\"https://colab.research.google.com/assets/colab-badge.svg\" alt=\"Open In Colab\"/></a>"
      ]
    },
    {
      "cell_type": "code",
      "source": [
        "tasks = []\n",
        "\n",
        "def add_task(new_task):\n",
        "    \"\"\"\n",
        "    Add a new task to the list\n",
        "    \"\"\"\n",
        "    tasks.append(new_task)\n",
        "    print(f\"Added task: {new_task}\")\n",
        "\n",
        "def remove_task(task):\n",
        "    \"\"\"\n",
        "    Remove a task from the list\n",
        "    \"\"\"\n",
        "    if task in tasks:\n",
        "        tasks.remove(task)\n",
        "        print(f\"Removed task: {task}\")\n",
        "    else:\n",
        "        print(f\"{task} not found\")\n",
        "\n",
        "def view_task():\n",
        "    \"\"\"\n",
        "    View all tasks in the list\n",
        "    \"\"\"\n",
        "    print(\"To-do list:\")\n",
        "    for i, task in enumerate(tasks):\n",
        "        print(f\"{i+1}. {task}\")\n",
        "\n",
        "while True:\n",
        "    print(\"\\nWhat do you want to do\")\n",
        "    print(\"1. ADD A TASK\")\n",
        "    print(\"2. REMOVE A TASK\")\n",
        "    print(\"3. VIEW ALL TASK\")\n",
        "    print(\"4. EXIT\")\n",
        "\n",
        "    choice = input(\"Enter choice: \")\n",
        "\n",
        "    if choice == \"1\":\n",
        "        task = input(\"Enter a new task: \")\n",
        "        add_task(task)\n",
        "    elif choice == \"2\":\n",
        "        task = input(\"Enter a task to remove: \")\n",
        "        remove_task(task)\n",
        "    elif choice == \"3\":\n",
        "        view_task()\n",
        "    elif choice == \"4\":\n",
        "        print(\"Exiting\")\n",
        "        break\n",
        "    else:\n",
        "        print(\"Invalid Input\")"
      ],
      "metadata": {
        "colab": {
          "base_uri": "https://localhost:8080/"
        },
        "id": "DwOxYGBnt6u8",
        "outputId": "beb159ab-16cb-44fb-b2a9-b68ff1c190e6"
      },
      "execution_count": null,
      "outputs": [
        {
          "output_type": "stream",
          "name": "stdout",
          "text": [
            "\n",
            "What do you want to do\n",
            "1. ADD A TASK\n",
            "2. REMOVE A TASK\n",
            "3. VIEW ALL TASK\n",
            "4. EXIT\n",
            "Enter choice: 1\n",
            "Enter a new task: Homework\n",
            "Added task: Homework\n",
            "\n",
            "What do you want to do\n",
            "1. ADD A TASK\n",
            "2. REMOVE A TASK\n",
            "3. VIEW ALL TASK\n",
            "4. EXIT\n",
            "Enter choice: 1\n",
            "Enter a new task: cleaning\n",
            "Added task: cleaning\n",
            "\n",
            "What do you want to do\n",
            "1. ADD A TASK\n",
            "2. REMOVE A TASK\n",
            "3. VIEW ALL TASK\n",
            "4. EXIT\n",
            "Enter choice: 3\n",
            "To-do list:\n",
            "1. Homework\n",
            "2. cleaning\n",
            "\n",
            "What do you want to do\n",
            "1. ADD A TASK\n",
            "2. REMOVE A TASK\n",
            "3. VIEW ALL TASK\n",
            "4. EXIT\n",
            "Enter choice: 2\n",
            "Enter a task to remove: cleaning\n",
            "Removed task: cleaning\n",
            "\n",
            "What do you want to do\n",
            "1. ADD A TASK\n",
            "2. REMOVE A TASK\n",
            "3. VIEW ALL TASK\n",
            "4. EXIT\n",
            "Enter choice: 3\n",
            "To-do list:\n",
            "1. Homework\n",
            "\n",
            "What do you want to do\n",
            "1. ADD A TASK\n",
            "2. REMOVE A TASK\n",
            "3. VIEW ALL TASK\n",
            "4. EXIT\n"
          ]
        }
      ]
    },
    {
      "cell_type": "code",
      "source": [],
      "metadata": {
        "id": "S6p-l9bVt7bg"
      },
      "execution_count": null,
      "outputs": []
    }
  ]
}