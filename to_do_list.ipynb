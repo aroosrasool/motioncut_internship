{
  "nbformat": 4,
  "nbformat_minor": 0,
  "metadata": {
    "colab": {
      "provenance": [],
      "authorship_tag": "ABX9TyOsZfnJMOfCtzCYOdZYaNT4",
      "include_colab_link": true
    },
    "kernelspec": {
      "name": "python3",
      "display_name": "Python 3"
    },
    "language_info": {
      "name": "python"
    }
  },
  "cells": [
    {
      "cell_type": "markdown",
      "metadata": {
        "id": "view-in-github",
        "colab_type": "text"
      },
      "source": [
        "<a href=\"https://colab.research.google.com/github/aroosrasool/motioncut_internship/blob/main/to_do_list.ipynb\" target=\"_parent\"><img src=\"https://colab.research.google.com/assets/colab-badge.svg\" alt=\"Open In Colab\"/></a>"
      ]
    },
    {
      "cell_type": "code",
      "execution_count": null,
      "metadata": {
        "colab": {
          "base_uri": "https://localhost:8080/"
        },
        "id": "rs2BkaK0j0PW",
        "outputId": "9f07ca90-5bee-445b-dd70-dc4d730456a8"
      },
      "outputs": [
        {
          "name": "stdout",
          "output_type": "stream",
          "text": [
            "/n What do you want to do\n",
            "1. ADD A TASK\n",
            "2. REMOVE A TASK\n",
            "3. VIEW ALL TASK\n",
            "4. EXIT\n",
            "enter choice1\n"
          ]
        }
      ],
      "source": [
        "task = []\n",
        "\n",
        "def add_task(task):\n",
        "  \"\"\"\n",
        "  Add a new task to the to the list\n",
        "  \"\"\"\n",
        "  task.append(task)\n",
        "  print(f\" Added task :{task}\")\n",
        "\n",
        "def remove_task(task):\n",
        "  \"\"\"\n",
        "  Remove a task from the list\n",
        "  \"\"\"\n",
        "\n",
        "\n",
        "  if task in tasks:\n",
        "    task.remove(task)\n",
        "    print(f\"Remove task :{task}\")\n",
        "  else:\n",
        "        print(f\"{task} not found\")\n",
        "\n",
        "def view_task():\n",
        "  \"\"\"\n",
        "\n",
        "  view all tasks in the list\n",
        "  \"\"\"\n",
        "\n",
        "  print(\"to_do list :\")\n",
        "  for i, task in enumerate(tasks):\n",
        "    print(f\"{i+1}.{task}\")\n",
        "while True:\n",
        "          print(\"/n What do you want to do\")\n",
        "          print(\"1. ADD A TASK\")\n",
        "          print(\"2. REMOVE A TASK\")\n",
        "          print(\"3. VIEW ALL TASK\")\n",
        "          print(\"4. EXIT\")\n",
        "\n",
        "          choice = input(\"enter choice\")\n",
        "\n",
        "          if choice == \"1\":\n",
        "             task = input(\" Enter a new task\")\n",
        "             add_task(task)\n",
        "          elif choice == \"2\":\n",
        "             task = input(\" Enter a task to remove\")\n",
        "             remove_task(task)\n",
        "          elif choice == \"3\":\n",
        "             view_task(task)\n",
        "          elif choice == \"4\":\n",
        "             print(\"Exiting\")\n",
        "             break\n",
        "          else:\n",
        "             print(\"Invalid Input\")\n",
        "\n",
        "\n",
        "\n",
        "\n"
      ]
    },
    {
      "cell_type": "code",
      "source": [],
      "metadata": {
        "id": "-SfCAms7o82Z"
      },
      "execution_count": null,
      "outputs": []
    }
  ]
}