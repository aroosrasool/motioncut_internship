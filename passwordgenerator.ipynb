{
  "nbformat": 4,
  "nbformat_minor": 0,
  "metadata": {
    "colab": {
      "provenance": [],
      "authorship_tag": "ABX9TyMp8rnV2RwIXLzCPx7D7TS2",
      "include_colab_link": true
    },
    "kernelspec": {
      "name": "python3",
      "display_name": "Python 3"
    },
    "language_info": {
      "name": "python"
    }
  },
  "cells": [
    {
      "cell_type": "markdown",
      "metadata": {
        "id": "view-in-github",
        "colab_type": "text"
      },
      "source": [
        "<a href=\"https://colab.research.google.com/github/aroosrasool/motioncut_internship/blob/main/passwordgenerator.ipynb\" target=\"_parent\"><img src=\"https://colab.research.google.com/assets/colab-badge.svg\" alt=\"Open In Colab\"/></a>"
      ]
    },
    {
      "cell_type": "code",
      "execution_count": 3,
      "metadata": {
        "colab": {
          "base_uri": "https://localhost:8080/"
        },
        "id": "rJVLpbUlFNLE",
        "outputId": "50a7d3fd-db36-434b-d3bb-29cdc4911fcf"
      },
      "outputs": [
        {
          "output_type": "stream",
          "name": "stdout",
          "text": [
            "Enter the length for each password: 8\n",
            "Enter the number of passwords to generate: 6\n",
            "\n",
            "Generated Passwords:\n",
            "Password 1: e.;H`3L7\n",
            "Password 2: \\MF1-E7_\n",
            "Password 3: $j:kv8V,\n",
            "Password 4: j+vHtVEH\n",
            "Password 5: =,Z`\\syc\n",
            "Password 6: 8+E;xE:L\n"
          ]
        }
      ],
      "source": [
        "import secrets\n",
        "import string\n",
        "\n",
        "def generate_random_password(length=12):\n",
        "    # Define the characters to be used in the password\n",
        "    characters = string.ascii_letters + string.digits + string.punctuation\n",
        "\n",
        "    # Generate a secure random password\n",
        "    password = ''.join(secrets.choice(characters) for _ in range(length))\n",
        "    return password\n",
        "\n",
        "def generate_multiple_passwords(num_passwords, length):\n",
        "    passwords = [generate_random_password(length) for _ in range(num_passwords)]\n",
        "    return passwords\n",
        "\n",
        "# Get user input for password length and number of passwords\n",
        "while True:\n",
        "    try:\n",
        "        password_length = int(input(\"Enter the length for each password: \"))\n",
        "        num_passwords = int(input(\"Enter the number of passwords to generate: \"))\n",
        "        if password_length <= 0 or num_passwords <= 0:\n",
        "            print(\"Please enter positive integer values for length and number of passwords.\")\n",
        "        else:\n",
        "            break\n",
        "    except ValueError:\n",
        "        print(\"Please enter valid integer values.\")\n",
        "\n",
        "# Generate multiple random passwords of the specified length\n",
        "generated_passwords = generate_multiple_passwords(num_passwords, password_length)\n",
        "\n",
        "# Display the generated passwords\n",
        "print(\"\\nGenerated Passwords:\")\n",
        "for index, password in enumerate(generated_passwords, start=1):\n",
        "    print(f\"Password {index}: {password}\")\n"
      ]
    },
    {
      "cell_type": "code",
      "source": [],
      "metadata": {
        "id": "2WdMFu7KFPXy"
      },
      "execution_count": null,
      "outputs": []
    }
  ]
}