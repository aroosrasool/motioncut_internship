{
  "nbformat": 4,
  "nbformat_minor": 0,
  "metadata": {
    "colab": {
      "provenance": [],
      "authorship_tag": "ABX9TyPQ/ZTZT/aFZYfTnyT3Fi2f",
      "include_colab_link": true
    },
    "kernelspec": {
      "name": "python3",
      "display_name": "Python 3"
    },
    "language_info": {
      "name": "python"
    }
  },
  "cells": [
    {
      "cell_type": "markdown",
      "metadata": {
        "id": "view-in-github",
        "colab_type": "text"
      },
      "source": [
        "<a href=\"https://colab.research.google.com/github/aroosrasool/motioncut_internship/blob/main/textbasedadventuregame.ipynb\" target=\"_parent\"><img src=\"https://colab.research.google.com/assets/colab-badge.svg\" alt=\"Open In Colab\"/></a>"
      ]
    },
    {
      "cell_type": "code",
      "source": [
        "def start_game():\n",
        "    print(\"Welcome to the Mysterious Maze!\")\n",
        "    print(\"You find yourself at the entrance of a dark and mysterious maze.\")\n",
        "    print(\"Your goal is to find the exit. Be careful!\")\n",
        "\n",
        "    navigate_maze()\n",
        "\n",
        "def navigate_maze():\n",
        "    print(\"\\nYou are standing at a crossroad.\")\n",
        "    print(\"Do you want to go 'left', 'right', or 'straight'?\")\n",
        "    choice = input(\"Enter your choice: \").lower()\n",
        "\n",
        "    if choice == \"left\":\n",
        "        print(\"\\nYou turn left and encounter a dead end. Try another direction.\")\n",
        "        navigate_maze()\n",
        "    elif choice == \"right\":\n",
        "        print(\"\\nYou turn right and hear some rustling nearby.\")\n",
        "        print(\"Do you want to investigate ('yes'/'no')?\")\n",
        "        investigate = input(\"Your choice: \").lower()\n",
        "\n",
        "        if investigate == \"yes\":\n",
        "            print(\"\\nYou find a hidden passage that leads deeper into the maze.\")\n",
        "            deeper_maze()\n",
        "        elif investigate == \"no\":\n",
        "            print(\"\\nYou choose not to investigate and continue.\")\n",
        "            navigate_maze()\n",
        "        else:\n",
        "            print(\"Invalid choice. Please enter 'yes' or 'no'.\")\n",
        "            navigate_maze()\n",
        "    elif choice == \"straight\":\n",
        "        print(\"\\nYou move straight ahead and reach a fork in the path.\")\n",
        "        print(\"Do you go 'left' or 'right'?\")\n",
        "        fork_choice = input(\"Your decision: \").lower()\n",
        "\n",
        "        if fork_choice == \"left\":\n",
        "            print(\"\\nYou take the left path and discover a hidden door.\")\n",
        "            print(\"You open the door and find the exit! Congratulations, you escaped the maze!\")\n",
        "        elif fork_choice == \"right\":\n",
        "            print(\"\\nYou take the right path and encounter a maze monster!\")\n",
        "            print(\"You try to run away but the monster catches you. Game over!\")\n",
        "        else:\n",
        "            print(\"Invalid choice. Please try again.\")\n",
        "            navigate_maze()\n",
        "    else:\n",
        "        print(\"Invalid choice. Please enter 'left', 'right', or 'straight'.\")\n",
        "        navigate_maze()\n",
        "\n",
        "def deeper_maze():\n",
        "    print(\"\\nYou find yourself in a darker section of the maze.\")\n",
        "    print(\"There are two paths - 'up' or 'down'.\")\n",
        "    direction = input(\"Which way do you want to go? \").lower()\n",
        "\n",
        "    if direction == \"up\":\n",
        "        print(\"\\nYou climb up and discover an ancient artifact!\")\n",
        "        print(\"You take the artifact and make your way back to the entrance.\")\n",
        "        navigate_maze()\n",
        "    elif direction == \"down\":\n",
        "        print(\"\\nYou go further down and encounter a maze guardian.\")\n",
        "        print(\"You engage in a battle with the guardian.\")\n",
        "        fight_guardian()\n",
        "    else:\n",
        "        print(\"Invalid choice. Please enter 'up' or 'down'.\")\n",
        "        deeper_maze()\n",
        "\n",
        "def fight_guardian():\n",
        "    # Add a simple battle mechanism here\n",
        "    print(\"\\nYou fought bravely against the guardian.\")\n",
        "    print(\"However, the guardian was too strong. Game over!\")\n",
        "\n",
        "# Start the game\n",
        "start_game()"
      ],
      "metadata": {
        "id": "TI7oYVtANLqM",
        "colab": {
          "base_uri": "https://localhost:8080/"
        },
        "outputId": "67723394-a8f7-4dc8-c3be-8b1c09ea2587"
      },
      "execution_count": 1,
      "outputs": [
        {
          "output_type": "stream",
          "name": "stdout",
          "text": [
            "Welcome to the Mysterious Maze!\n",
            "You find yourself at the entrance of a dark and mysterious maze.\n",
            "Your goal is to find the exit. Be careful!\n",
            "\n",
            "You are standing at a crossroad.\n",
            "Do you want to go 'left', 'right', or 'straight'?\n",
            "Enter your choice: left\n",
            "\n",
            "You turn left and encounter a dead end. Try another direction.\n",
            "\n",
            "You are standing at a crossroad.\n",
            "Do you want to go 'left', 'right', or 'straight'?\n",
            "Enter your choice: right\n",
            "\n",
            "You turn right and hear some rustling nearby.\n",
            "Do you want to investigate ('yes'/'no')?\n",
            "Your choice: no\n",
            "\n",
            "You choose not to investigate and continue.\n",
            "\n",
            "You are standing at a crossroad.\n",
            "Do you want to go 'left', 'right', or 'straight'?\n",
            "Enter your choice: left\n",
            "\n",
            "You turn left and encounter a dead end. Try another direction.\n",
            "\n",
            "You are standing at a crossroad.\n",
            "Do you want to go 'left', 'right', or 'straight'?\n",
            "Enter your choice: straight\n",
            "\n",
            "You move straight ahead and reach a fork in the path.\n",
            "Do you go 'left' or 'right'?\n",
            "Your decision: right\n",
            "\n",
            "You take the right path and encounter a maze monster!\n",
            "You try to run away but the monster catches you. Game over!\n"
          ]
        }
      ]
    },
    {
      "cell_type": "code",
      "source": [],
      "metadata": {
        "id": "GBU8NeMannAt"
      },
      "execution_count": null,
      "outputs": []
    }
  ]
}